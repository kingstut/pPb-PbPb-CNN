{
 "cells": [
  {
   "cell_type": "code",
   "execution_count": 1,
   "metadata": {},
   "outputs": [
    {
     "name": "stderr",
     "output_type": "stream",
     "text": [
      "Using TensorFlow backend.\n"
     ]
    }
   ],
   "source": [
    "from keras.optimizers import SGD, Adam, Adamax\n",
    "from keras.models import model_from_json\n",
    "import tensorflow as tf\n",
    "\n",
    "import numpy as np\n"
   ]
  },
  {
   "cell_type": "code",
   "execution_count": 2,
   "metadata": {},
   "outputs": [],
   "source": [
    "from keras.utils.np_utils import to_categorical\n",
    "import pandas as pds\n",
    "def load_data(csv_path, shuffle=True):\n",
    "    dat = pds.read_csv(csv_path)\n",
    "    x_origin = dat.iloc[:, range(0, 6*20)].values\n",
    "    y_origin = dat.loc[:, 'collision_system'].values\n",
    "    if shuffle == True:\n",
    "        randomize = np.arange(len(x_origin))\n",
    "        np.random.shuffle(randomize)\n",
    "        x = x_origin[randomize]\n",
    "        y = y_origin[randomize]\n",
    "\n",
    "    #x, y, randomize = regulize(x_origin, y_origin)\n",
    "    return x, y\n",
    "x_test, y_test = load_data('testing_data.csv')\n",
    "y_test = to_categorical(y_test)\n",
    "\n",
    "n_test = len(x_test)"
   ]
  },
  {
   "cell_type": "code",
   "execution_count": 6,
   "metadata": {},
   "outputs": [],
   "source": [
    "# load json and create model\n",
    "with open('model_filter.json', 'r') as json_file:\n",
    "    loaded_model_json = json_file.read()\n",
    "loaded_model = model_from_json(loaded_model_json)\n",
    "loaded_model.load_weights(\"weights_filter.hdf5\")\n",
    "\n",
    "adm = Adam(lr=0.0001, beta_1=0.9, beta_2=0.999, epsilon=1e-08, decay=0.0)\n",
    "loaded_model.compile(loss='categorical_crossentropy',\n",
    "              optimizer=adm,\n",
    "              metrics=['accuracy'])\n",
    "\n",
    "height, width = 20, 6\n"
   ]
  },
  {
   "cell_type": "code",
   "execution_count": 7,
   "metadata": {},
   "outputs": [
    {
     "name": "stdout",
     "output_type": "stream",
     "text": [
      "5950/5971 [============================>.] - ETA: 0spredict err=0.6466877739736132, acc=0.6343995980572769\n"
     ]
    }
   ],
   "source": [
    "x_test = x_test.reshape(n_test, height, width, 1).astype('float32')\n",
    "\n",
    "err, acc = loaded_model.evaluate(x_test, y_test, batch_size=1)\n",
    "\n",
    "print('predict err=%s, acc=%s'%(err, acc))\n"
   ]
  },
  {
   "cell_type": "code",
   "execution_count": 8,
   "metadata": {},
   "outputs": [
    {
     "name": "stdout",
     "output_type": "stream",
     "text": [
      "5696/5971 [===========================>..] - ETA: 0sppb\n",
      "2672  out of  3296 is correct ratio= 0.8106796116504854\n",
      "\n",
      "pbpb\n",
      "1116  out of  2675 is correct ratio= 0.417196261682243\n",
      "\n"
     ]
    }
   ],
   "source": [
    "classes = loaded_model.predict_classes(x_test)\n",
    "\n",
    "y_true = np.argmax(y_test, axis=1)\n",
    "y_pred = classes\n",
    "\n",
    "dat_sources = {'ppb': y_true == 0,\n",
    "               'pbpb': y_true == 1}\n",
    "\n",
    "for key in dat_sources.keys():\n",
    "    ids = dat_sources[key]\n",
    "    print(key)\n",
    "    correct_ones = np.count_nonzero(y_true[ids] == y_pred[ids])\n",
    "    print(correct_ones, ' out of ', ids.sum(), 'is correct', 'ratio=', correct_ones/float(ids.sum()))\n",
    "    print('')\n"
   ]
  },
  {
   "cell_type": "code",
   "execution_count": 32,
   "metadata": {},
   "outputs": [
    {
     "ename": "SyntaxError",
     "evalue": "invalid syntax (<ipython-input-32-cf47820c84c3>, line 1)",
     "output_type": "error",
     "traceback": [
      "\u001b[0;36m  File \u001b[0;32m\"<ipython-input-32-cf47820c84c3>\"\u001b[0;36m, line \u001b[0;32m1\u001b[0m\n\u001b[0;31m    5792/5971 [============================>.] - ETA: 0sppb\u001b[0m\n\u001b[0m                ^\u001b[0m\n\u001b[0;31mSyntaxError\u001b[0m\u001b[0;31m:\u001b[0m invalid syntax\n"
     ]
    }
   ],
   "source": [
    "5792/5971 [============================>.] - ETA: 0sppb\n",
    "2696  out of  3296 is correct ratio= 0.8179611650485437\n",
    "\n",
    "pbpb\n",
    "1101  out of  2675 is correct ratio= 0.41158878504672897\n",
    "\n",
    "\n",
    "5792/5971 [============================>.] - ETA: 0sppb\n",
    "2671  out of  3296 is correct ratio= 0.810376213592233\n",
    "\n",
    "pbpb\n",
    "1116  out of  2675 is correct ratio= 0.417196261682243\n",
    "\n",
    "\n",
    "\n",
    "\n",
    "76192/76371 [============================>.] - ETA: 0sppb\n",
    "54663  out of  76370 is correct ratio= 0.7157653528872594\n",
    " 0.72055"
   ]
  },
  {
   "cell_type": "code",
   "execution_count": 43,
   "metadata": {},
   "outputs": [
    {
     "name": "stderr",
     "output_type": "stream",
     "text": [
      "/usr/common/software/python/3.7-anaconda-2019.10/lib/python3.7/site-packages/ipykernel_launcher.py:32: DeprecationWarning: scipy.interp is deprecated and will be removed in SciPy 2.0.0, use numpy.interp instead\n"
     ]
    },
    {
     "data": {
      "image/png": "[encoded data removed]",
      "text/plain": [
       "<Figure size 432x288 with 1 Axes>"
      ]
     },
     "metadata": {
      "needs_background": "light"
     },
     "output_type": "display_data"
    }
   ],
   "source": [
    "import numpy as np\n",
    "from scipy import interp\n",
    "import matplotlib.pyplot as plt\n",
    "from itertools import cycle\n",
    "from sklearn.metrics import roc_curve, auc\n",
    "\n",
    "# Plot linewidth.\n",
    "n_classes=2\n",
    "lw = 2\n",
    "y_score = loaded_model.predict(x_test) \n",
    "\n",
    "# Compute ROC curve and ROC area for each class\n",
    "fpr = dict()\n",
    "tpr = dict()\n",
    "roc_auc = dict()\n",
    "for i in range(2):\n",
    "    fpr[i], tpr[i], _ = roc_curve(y_test[:, i], y_score[:, i])\n",
    "    roc_auc[i] = auc(fpr[i], tpr[i])\n",
    "\n",
    "# Compute micro-average ROC curve and ROC area\n",
    "fpr[\"micro\"], tpr[\"micro\"], _ = roc_curve(y_test.ravel(), y_score.ravel())\n",
    "roc_auc[\"micro\"] = auc(fpr[\"micro\"], tpr[\"micro\"])\n",
    "\n",
    "# Compute macro-average ROC curve and ROC area\n",
    "\n",
    "# First aggregate all false positive rates\n",
    "all_fpr = np.unique(np.concatenate([fpr[i] for i in range(2)]))\n",
    "\n",
    "# Then interpolate all ROC curves at this points\n",
    "mean_tpr = np.zeros_like(all_fpr)\n",
    "for i in range(n_classes):\n",
    "    mean_tpr += interp(all_fpr, fpr[i], tpr[i])\n",
    "\n",
    "# Finally average it and compute AUC\n",
    "mean_tpr /= n_classes\n",
    "\n",
    "fpr[\"macro\"] = all_fpr\n",
    "tpr[\"macro\"] = mean_tpr\n",
    "roc_auc[\"macro\"] = auc(fpr[\"macro\"], tpr[\"macro\"])\n",
    "\n",
    "# Plot all ROC curves\n",
    "plt.figure(1)\n",
    "\n",
    "colors = cycle(['aqua', 'darkorange', 'cornflowerblue'])\n",
    "for i, color in zip(range(n_classes), colors):\n",
    "    plt.plot(fpr[i], tpr[i], color=color, lw=lw,\n",
    "             label='ROC curve of class {0} (area = {1:0.2f})'\n",
    "             ''.format(i, roc_auc[i]))\n",
    "\n",
    "plt.plot([0, 1], [0, 1], 'k--', lw=lw)\n",
    "plt.xlim([0.0, 1.0])\n",
    "plt.ylim([0.0, 1.05])\n",
    "plt.xlabel('False Positive Rate')\n",
    "plt.ylabel('True Positive Rate')\n",
    "plt.legend(loc=\"lower right\")\n",
    "plt.show()\n",
    "\n",
    "\n"
   ]
  },
  {
   "cell_type": "code",
   "execution_count": null,
   "metadata": {},
   "outputs": [],
   "source": []
  }
 ],
 "metadata": {
  "kernelspec": {
   "display_name": "Python 3",
   "language": "python",
   "name": "python3"
  },
  "language_info": {
   "codemirror_mode": {
    "name": "ipython",
    "version": 3
   },
   "file_extension": ".py",
   "mimetype": "text/x-python",
   "name": "python",
   "nbconvert_exporter": "python",
   "pygments_lexer": "ipython3",
   "version": "3.7.4"
  }
 },
 "nbformat": 4,
 "nbformat_minor": 4
}
